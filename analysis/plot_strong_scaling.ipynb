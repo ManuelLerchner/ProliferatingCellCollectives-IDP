{
 "cells": [
  {
   "cell_type": "code",
   "execution_count": 18,
   "id": "b871c153",
   "metadata": {},
   "outputs": [],
   "source": [
    "import os\n",
    "import re\n",
    "\n",
    "\n",
    "import matplotlib.pyplot as plt\n",
    "import numpy as np\n",
    "\n",
    "import seaborn as sns"
   ]
  },
  {
   "cell_type": "code",
   "execution_count": 19,
   "id": "656c7755",
   "metadata": {},
   "outputs": [],
   "source": [
    "# Define colors for modes\n",
    "from scipy.ndimage import gaussian_filter1d\n",
    "import pandas as pd\n",
    "import seaborn as sns\n",
    "\n",
    "MODE_COLORS = {\"hard\": \"blue\", \"soft\": \"red\", \"Weady et al.\": \"black\"}\n",
    "LINE_STYLES = {\"$\\\\lambda = 10^{-2}$\": \"solid\",\n",
    "               \"$\\\\lambda = 10^{-3}$\": \"dashed\", \"$\\\\lambda = 10^{-4}$\": \"dotted\"}"
   ]
  },
  {
   "cell_type": "code",
   "execution_count": 20,
   "id": "dba5577e",
   "metadata": {},
   "outputs": [
    {
     "name": "stdout",
     "output_type": "stream",
     "text": [
      "loading ../data/strong_scaling/1760916059116.569/output_hard/112ranks/vtk_output_hard\n",
      "loading ../data/strong_scaling/1760916059116.569/output_soft/112ranks/vtk_output_soft\n",
      "loading ../data/strong_scaling/1760916059116.569/output_soft/96ranks/vtk_output_soft\n",
      "loading ../data/strong_scaling/1761142928038.939/output_hard/48ranks/vtk_output_hard\n",
      "loading ../data/strong_scaling/1761180588593.814/output_soft/2ranks/vtk_output_soft\n",
      "loading ../data/strong_scaling/1761180588593.814/output_soft/4ranks/vtk_output_soft\n",
      "loading ../data/strong_scaling/1761142936463.112/output_soft/48ranks/vtk_output_soft\n",
      "loading ../data/strong_scaling/1761142936463.112/output_soft/64ranks/vtk_output_soft\n"
     ]
    }
   ],
   "source": [
    "from load_combined import load_combined\n",
    "\n",
    "source_folders = [\n",
    "    \"../data/strong_scaling/\",\n",
    " \n",
    "]\n",
    "\n",
    "# find recursive subfolders within source_folders\n",
    "sim_dirs = []\n",
    "for folder in source_folders:\n",
    "    for root, dirs, files in os.walk(folder):\n",
    "        # skip if /data as last part of path\n",
    "        if \"logs\" in root or \"data\" in root.split(os.sep)[-1]:\n",
    "            continue\n",
    "\n",
    "        if any(f.endswith(\".pvtu\") for f in os.listdir(root)):\n",
    "            sim_dirs.append(os.path.join(root))\n",
    "\n",
    "particles_dict, sim_dict, params_dict = load_combined(sim_dirs, offset=0)"
   ]
  },
  {
   "cell_type": "code",
   "execution_count": 21,
   "id": "31b66cb9",
   "metadata": {},
   "outputs": [
    {
     "name": "stdout",
     "output_type": "stream",
     "text": [
      "Loaded particles_dict with 368.72 MB\n",
      "Loaded sim_dict with 0.07 MB\n",
      "Loaded params_dict with 0.00 MB\n"
     ]
    }
   ],
   "source": [
    "# print sizte of particles_dict in MB\n",
    "print(f\"Loaded particles_dict with {particles_dict.memory_usage(deep=True).sum() / (1024**2):.2f} MB\")\n",
    "print(f\"Loaded sim_dict with {sim_dict.memory_usage(deep=True).sum() / (1024**2):.2f} MB\")\n",
    "print(f\"Loaded params_dict with {params_dict.memory_usage(deep=True).sum() / (1024**2):.2f} MB\")"
   ]
  },
  {
   "cell_type": "code",
   "execution_count": 22,
   "id": "2a3ef303",
   "metadata": {},
   "outputs": [
    {
     "data": {
      "text/plain": [
       "Index(['iteration', 'simulation_time_s', 'time_since_last_log_s', 'step',\n",
       "       'num_particles', 'num_constraints', 'colony_radius',\n",
       "       'recursive_iterations', 'bbpgd_iterations', 'max_overlap', 'residual',\n",
       "       'memory_usage_mb', 'peak_memory_mb', 'cpu_time_s', 'mpi_comm_time_s',\n",
       "       'load_imbalance', 'dt_s', 'x', 'y', 'z', 'rank', 'Mode', 'Sensitivity',\n",
       "       'sim_dir', 'offset'],\n",
       "      dtype='object')"
      ]
     },
     "execution_count": 22,
     "metadata": {},
     "output_type": "execute_result"
    }
   ],
   "source": [
    "sim_dict.keys()"
   ]
  },
  {
   "cell_type": "code",
   "execution_count": 23,
   "id": "d6a2b9f1",
   "metadata": {},
   "outputs": [
    {
     "data": {
      "text/plain": [
       "0         .._data_strong_scaling_1760916059116.569\n",
       "1         .._data_strong_scaling_1760916059116.569\n",
       "2         .._data_strong_scaling_1760916059116.569\n",
       "3         .._data_strong_scaling_1760916059116.569\n",
       "4         .._data_strong_scaling_1760916059116.569\n",
       "                            ...                   \n",
       "735064    .._data_strong_scaling_1761142936463.112\n",
       "735065    .._data_strong_scaling_1761142936463.112\n",
       "735066    .._data_strong_scaling_1761142936463.112\n",
       "735067    .._data_strong_scaling_1761142936463.112\n",
       "735068    .._data_strong_scaling_1761142936463.112\n",
       "Name: sim_dir, Length: 735069, dtype: object"
      ]
     },
     "execution_count": 23,
     "metadata": {},
     "output_type": "execute_result"
    }
   ],
   "source": [
    "particles_dict[\"sim_dir\"]"
   ]
  },
  {
   "cell_type": "code",
   "execution_count": 24,
   "id": "062ca0e3",
   "metadata": {},
   "outputs": [],
   "source": [
    "particles_dict[\"total_ranks\"]=particles_dict[\"Sensitivity\"].str.extract(r\"(\\d+)ranks\")"
   ]
  },
  {
   "cell_type": "code",
   "execution_count": 38,
   "id": "554c81c9",
   "metadata": {},
   "outputs": [
    {
     "data": {
      "text/html": [
       "<div>\n",
       "<style scoped>\n",
       "    .dataframe tbody tr th:only-of-type {\n",
       "        vertical-align: middle;\n",
       "    }\n",
       "\n",
       "    .dataframe tbody tr th {\n",
       "        vertical-align: top;\n",
       "    }\n",
       "\n",
       "    .dataframe thead th {\n",
       "        text-align: right;\n",
       "    }\n",
       "</style>\n",
       "<table border=\"1\" class=\"dataframe\">\n",
       "  <thead>\n",
       "    <tr style=\"text-align: right;\">\n",
       "      <th></th>\n",
       "      <th>runtime [h]</th>\n",
       "      <th>Mode</th>\n",
       "      <th>total_ranks</th>\n",
       "      <th>sim_dir</th>\n",
       "      <th>colony_radius</th>\n",
       "    </tr>\n",
       "  </thead>\n",
       "  <tbody>\n",
       "    <tr>\n",
       "      <th>0</th>\n",
       "      <td>0.836589</td>\n",
       "      <td>hard</td>\n",
       "      <td>112</td>\n",
       "      <td>.._data_strong_scaling_1760916059116.569</td>\n",
       "      <td>100.0000</td>\n",
       "    </tr>\n",
       "    <tr>\n",
       "      <th>1</th>\n",
       "      <td>0.769689</td>\n",
       "      <td>hard</td>\n",
       "      <td>48</td>\n",
       "      <td>.._data_strong_scaling_1761142928038.939</td>\n",
       "      <td>100.0040</td>\n",
       "    </tr>\n",
       "    <tr>\n",
       "      <th>2</th>\n",
       "      <td>7.735889</td>\n",
       "      <td>soft</td>\n",
       "      <td>112</td>\n",
       "      <td>.._data_strong_scaling_1760916059116.569</td>\n",
       "      <td>100.0000</td>\n",
       "    </tr>\n",
       "    <tr>\n",
       "      <th>3</th>\n",
       "      <td>5.934944</td>\n",
       "      <td>soft</td>\n",
       "      <td>2</td>\n",
       "      <td>.._data_strong_scaling_1761180588593.814</td>\n",
       "      <td>85.2585</td>\n",
       "    </tr>\n",
       "    <tr>\n",
       "      <th>4</th>\n",
       "      <td>5.283083</td>\n",
       "      <td>soft</td>\n",
       "      <td>4</td>\n",
       "      <td>.._data_strong_scaling_1761180588593.814</td>\n",
       "      <td>95.2585</td>\n",
       "    </tr>\n",
       "    <tr>\n",
       "      <th>5</th>\n",
       "      <td>2.334500</td>\n",
       "      <td>soft</td>\n",
       "      <td>48</td>\n",
       "      <td>.._data_strong_scaling_1761142936463.112</td>\n",
       "      <td>100.0000</td>\n",
       "    </tr>\n",
       "    <tr>\n",
       "      <th>6</th>\n",
       "      <td>3.692583</td>\n",
       "      <td>soft</td>\n",
       "      <td>64</td>\n",
       "      <td>.._data_strong_scaling_1761142936463.112</td>\n",
       "      <td>100.0000</td>\n",
       "    </tr>\n",
       "    <tr>\n",
       "      <th>7</th>\n",
       "      <td>6.606833</td>\n",
       "      <td>soft</td>\n",
       "      <td>96</td>\n",
       "      <td>.._data_strong_scaling_1760916059116.569</td>\n",
       "      <td>100.0000</td>\n",
       "    </tr>\n",
       "  </tbody>\n",
       "</table>\n",
       "</div>"
      ],
      "text/plain": [
       "   runtime [h]  Mode  total_ranks                                   sim_dir  \\\n",
       "0     0.836589  hard          112  .._data_strong_scaling_1760916059116.569   \n",
       "1     0.769689  hard           48  .._data_strong_scaling_1761142928038.939   \n",
       "2     7.735889  soft          112  .._data_strong_scaling_1760916059116.569   \n",
       "3     5.934944  soft            2  .._data_strong_scaling_1761180588593.814   \n",
       "4     5.283083  soft            4  .._data_strong_scaling_1761180588593.814   \n",
       "5     2.334500  soft           48  .._data_strong_scaling_1761142936463.112   \n",
       "6     3.692583  soft           64  .._data_strong_scaling_1761142936463.112   \n",
       "7     6.606833  soft           96  .._data_strong_scaling_1760916059116.569   \n",
       "\n",
       "   colony_radius  \n",
       "0       100.0000  \n",
       "1       100.0040  \n",
       "2       100.0000  \n",
       "3        85.2585  \n",
       "4        95.2585  \n",
       "5       100.0000  \n",
       "6       100.0000  \n",
       "7       100.0000  "
      ]
     },
     "execution_count": 38,
     "metadata": {},
     "output_type": "execute_result"
    }
   ],
   "source": [
    "from scipy.optimize import curve_fit\n",
    "\n",
    "runtimes = []\n",
    "for k, g in particles_dict.groupby([\"Mode\", \"total_ranks\", \"sim_dir\", \"Sensitivity\"]):\n",
    "    src = g[\"Sensitivity\"].unique()[0]\n",
    "\n",
    "    sim_data = sim_dict[sim_dict[\"Sensitivity\"] == src]\n",
    "\n",
    "    final_time = sim_data[\"cpu_time_s\"].max()\n",
    "\n",
    "    colony_radius = sim_data[\"colony_radius\"].max()\n",
    "\n",
    "    runtimes.append(pd.DataFrame({\n",
    "        \"runtime [h]\": [final_time / 3600],\n",
    "        \"Mode\": [k[0]],\n",
    "        \"total_ranks\": [int(k[1])],\n",
    "        \"sim_dir\": [k[2]],\n",
    "        \"colony_radius\": [colony_radius],\n",
    "    }))\n",
    "runtimes = pd.concat(runtimes, ignore_index=True)\n",
    "\n",
    "runtimes"
   ]
  },
  {
   "cell_type": "markdown",
   "id": "675b28bb",
   "metadata": {},
   "source": []
  },
  {
   "cell_type": "code",
   "execution_count": 26,
   "id": "d04de927",
   "metadata": {},
   "outputs": [
    {
     "name": "stdout",
     "output_type": "stream",
     "text": [
      "group has no baseline for speedup calculation\n",
      "group has no baseline for speedup calculation\n",
      "group has no baseline for speedup calculation\n",
      "group has no baseline for speedup calculation\n",
      "group has no baseline for speedup calculation\n"
     ]
    },
    {
     "name": "stderr",
     "output_type": "stream",
     "text": [
      "/tmp/ipykernel_621716/977333742.py:30: DeprecationWarning: DataFrameGroupBy.apply operated on the grouping columns. This behavior is deprecated, and in a future version of pandas the grouping columns will be excluded from the operation. Either pass `include_groups=False` to exclude the groupings or explicitly select the grouping columns after groupby to silence this warning.\n",
      "  runtimes = runtimes.groupby([\"Mode\", \"sim_dir\"]).apply(\n"
     ]
    },
    {
     "data": {
      "text/html": [
       "<div>\n",
       "<style scoped>\n",
       "    .dataframe tbody tr th:only-of-type {\n",
       "        vertical-align: middle;\n",
       "    }\n",
       "\n",
       "    .dataframe tbody tr th {\n",
       "        vertical-align: top;\n",
       "    }\n",
       "\n",
       "    .dataframe thead th {\n",
       "        text-align: right;\n",
       "    }\n",
       "</style>\n",
       "<table border=\"1\" class=\"dataframe\">\n",
       "  <thead>\n",
       "    <tr style=\"text-align: right;\">\n",
       "      <th></th>\n",
       "      <th>runtime [h]</th>\n",
       "      <th>Mode</th>\n",
       "      <th>total_ranks</th>\n",
       "      <th>sim_dir</th>\n",
       "    </tr>\n",
       "  </thead>\n",
       "  <tbody>\n",
       "    <tr>\n",
       "      <th>1</th>\n",
       "      <td>0.769689</td>\n",
       "      <td>hard</td>\n",
       "      <td>48</td>\n",
       "      <td>.._data_strong_scaling_1761142928038.939</td>\n",
       "    </tr>\n",
       "    <tr>\n",
       "      <th>0</th>\n",
       "      <td>0.836589</td>\n",
       "      <td>hard</td>\n",
       "      <td>112</td>\n",
       "      <td>.._data_strong_scaling_1760916059116.569</td>\n",
       "    </tr>\n",
       "    <tr>\n",
       "      <th>6</th>\n",
       "      <td>5.934944</td>\n",
       "      <td>soft</td>\n",
       "      <td>2</td>\n",
       "      <td>.._data_strong_scaling_1761180588593.814</td>\n",
       "    </tr>\n",
       "    <tr>\n",
       "      <th>7</th>\n",
       "      <td>5.283083</td>\n",
       "      <td>soft</td>\n",
       "      <td>4</td>\n",
       "      <td>.._data_strong_scaling_1761180588593.814</td>\n",
       "    </tr>\n",
       "    <tr>\n",
       "      <th>4</th>\n",
       "      <td>2.334500</td>\n",
       "      <td>soft</td>\n",
       "      <td>48</td>\n",
       "      <td>.._data_strong_scaling_1761142936463.112</td>\n",
       "    </tr>\n",
       "    <tr>\n",
       "      <th>5</th>\n",
       "      <td>3.692583</td>\n",
       "      <td>soft</td>\n",
       "      <td>64</td>\n",
       "      <td>.._data_strong_scaling_1761142936463.112</td>\n",
       "    </tr>\n",
       "    <tr>\n",
       "      <th>3</th>\n",
       "      <td>6.606833</td>\n",
       "      <td>soft</td>\n",
       "      <td>96</td>\n",
       "      <td>.._data_strong_scaling_1760916059116.569</td>\n",
       "    </tr>\n",
       "    <tr>\n",
       "      <th>2</th>\n",
       "      <td>7.735889</td>\n",
       "      <td>soft</td>\n",
       "      <td>112</td>\n",
       "      <td>.._data_strong_scaling_1760916059116.569</td>\n",
       "    </tr>\n",
       "  </tbody>\n",
       "</table>\n",
       "</div>"
      ],
      "text/plain": [
       "   runtime [h]  Mode  total_ranks                                   sim_dir\n",
       "1     0.769689  hard           48  .._data_strong_scaling_1761142928038.939\n",
       "0     0.836589  hard          112  .._data_strong_scaling_1760916059116.569\n",
       "6     5.934944  soft            2  .._data_strong_scaling_1761180588593.814\n",
       "7     5.283083  soft            4  .._data_strong_scaling_1761180588593.814\n",
       "4     2.334500  soft           48  .._data_strong_scaling_1761142936463.112\n",
       "5     3.692583  soft           64  .._data_strong_scaling_1761142936463.112\n",
       "3     6.606833  soft           96  .._data_strong_scaling_1760916059116.569\n",
       "2     7.735889  soft          112  .._data_strong_scaling_1760916059116.569"
      ]
     },
     "execution_count": 26,
     "metadata": {},
     "output_type": "execute_result"
    }
   ],
   "source": [
    "def amdahl(N, p):\n",
    "    return 1 / ((1 - p) + p / N)\n",
    "\n",
    "\n",
    "def compute_speedup(group):\n",
    "\n",
    "    if group[group[\"total_ranks\"] == 1].empty:\n",
    "        print(\"group has no baseline for speedup calculation\")\n",
    "        return group\n",
    "\n",
    "    baseline = group[group[\"total_ranks\"] == 1]\n",
    "    baseline = baseline.iloc[0][\"runtime [h]\"]\n",
    "    group = group.copy()\n",
    "    group[\"speedup\"] = baseline / group[\"runtime [h]\"]\n",
    "\n",
    "    N = group[\"total_ranks\"].values\n",
    "    S = group[\"speedup\"].values\n",
    "\n",
    "    # Fit p to all observed speedups\n",
    "    popt, _ = curve_fit(amdahl, N, S, bounds=(0, 1))\n",
    "    p_est = popt[0]\n",
    "\n",
    "    group[\"amdahl\"] = amdahl(N, p_est)\n",
    "    group[\"p_est\"] = p_est\n",
    "\n",
    "    group[\"efficiency\"] = group[\"speedup\"] / group[\"total_ranks\"]\n",
    "    return group\n",
    "\n",
    "\n",
    "runtimes = runtimes.groupby([\"Mode\", \"sim_dir\"]).apply(\n",
    "    compute_speedup).reset_index(drop=True)\n",
    "\n",
    "runtimes.sort_values([\"Mode\", \"total_ranks\"], inplace=True)\n",
    "runtimes\n",
    "\n",
    "runtimes"
   ]
  },
  {
   "cell_type": "code",
   "execution_count": 27,
   "id": "55566b0e",
   "metadata": {},
   "outputs": [
    {
     "name": "stdout",
     "output_type": "stream",
     "text": [
      "(np.int64(2), 'soft') 1\n",
      "(np.int64(4), 'soft') 1\n",
      "(np.int64(48), 'hard') 1\n",
      "(np.int64(48), 'soft') 1\n",
      "(np.int64(64), 'soft') 1\n",
      "(np.int64(96), 'soft') 1\n",
      "(np.int64(112), 'hard') 1\n",
      "(np.int64(112), 'soft') 1\n"
     ]
    }
   ],
   "source": [
    "for k, g in runtimes.groupby([\"total_ranks\", \"Mode\"]):\n",
    "    print(k, len(g))"
   ]
  },
  {
   "cell_type": "code",
   "execution_count": 28,
   "id": "68d784f6",
   "metadata": {},
   "outputs": [],
   "source": [
    "def makeplot(data, x, y, xlabel=None, ylabel=None, outname=None, variable=\"density\",\n",
    "             xscale=None, yscale=None,  hue=\"Mode\",           **kwargs):\n",
    "\n",
    "    fig, ax = plt.subplots(figsize=(10, 6))\n",
    "    outname = outname or f\"{y}_vs_{x}.png\"\n",
    "\n",
    "    sns.lineplot(data, x=x,                 y=y,\n",
    "                 hue=hue, marker=\"o\", ax=ax, **kwargs, lw=2, ms=10, palette=MODE_COLORS, style_order=LINE_STYLES.keys())\n",
    "\n",
    "    if xscale:\n",
    "        ax.set_xscale(xscale, base=2)\n",
    "    if yscale:\n",
    "        ax.set_yscale(yscale, base=2)\n",
    "\n",
    "    ax.set_xlabel(xlabel or x, fontsize=20)\n",
    "    ax.set_ylabel(ylabel or y, fontsize=20)\n",
    "    ax.tick_params(axis='x', labelsize=16)\n",
    "    ax.tick_params(axis='y', labelsize=16)\n",
    "    ax.grid(True)\n",
    "    ax.legend(fontsize=22)\n",
    "\n",
    "    if outname:\n",
    "        fig.savefig(outname, dpi=300, bbox_inches=\"tight\")"
   ]
  },
  {
   "cell_type": "code",
   "execution_count": 29,
   "id": "c33339a9",
   "metadata": {},
   "outputs": [
    {
     "data": {
      "image/png": "[encoded data removed]",
      "text/plain": [
       "<Figure size 1000x600 with 1 Axes>"
      ]
     },
     "metadata": {},
     "output_type": "display_data"
    }
   ],
   "source": [
    "makeplot(runtimes, x=\"total_ranks\", y=\"runtime [h]\",\n",
    "         outname=\"strong_scaling_runtime_hard_soft.png\", xscale=\"log\",  errorbar=(\"se\",0.9))"
   ]
  },
  {
   "cell_type": "code",
   "execution_count": 30,
   "id": "a21ebb4f",
   "metadata": {},
   "outputs": [
    {
     "name": "stdout",
     "output_type": "stream",
     "text": [
      "Mode             hard      soft  speedup_factor\n",
      "total_ranks                                    \n",
      "2                 NaN  5.934944             NaN\n",
      "4                 NaN  5.283083             NaN\n",
      "48           0.769689  2.334500        3.033044\n",
      "64                NaN  3.692583             NaN\n",
      "96                NaN  6.606833             NaN\n",
      "112          0.836589  7.735889        9.246942\n"
     ]
    }
   ],
   "source": [
    "avg = runtimes.groupby(['total_ranks', 'Mode']).mean(numeric_only=True).reset_index()\n",
    "\n",
    "# pivot to have one column per model\n",
    "pivot = avg.pivot(index='total_ranks', columns='Mode', values='runtime [h]')\n",
    "\n",
    "# compute speedup factor (soft vs hard)\n",
    "pivot['speedup_factor'] =  pivot['soft'] / pivot['hard'] \n",
    "\n",
    "print(pivot)"
   ]
  },
  {
   "cell_type": "code",
   "execution_count": 31,
   "id": "b13ea653",
   "metadata": {},
   "outputs": [
    {
     "ename": "ValueError",
     "evalue": "Could not interpret value `speedup` for `y`. An entry with this name does not appear in `data`.",
     "output_type": "error",
     "traceback": [
      "\u001b[31m---------------------------------------------------------------------------\u001b[39m",
      "\u001b[31mValueError\u001b[39m                                Traceback (most recent call last)",
      "\u001b[36mCell\u001b[39m\u001b[36m \u001b[39m\u001b[32mIn[31]\u001b[39m\u001b[32m, line 1\u001b[39m\n\u001b[32m----> \u001b[39m\u001b[32m1\u001b[39m \u001b[43mmakeplot\u001b[49m\u001b[43m(\u001b[49m\u001b[43mruntimes\u001b[49m\u001b[43m,\u001b[49m\u001b[43m \u001b[49m\u001b[43mx\u001b[49m\u001b[43m=\u001b[49m\u001b[33;43m\"\u001b[39;49m\u001b[33;43mtotal_ranks\u001b[39;49m\u001b[33;43m\"\u001b[39;49m\u001b[43m,\u001b[49m\u001b[43m \u001b[49m\u001b[43my\u001b[49m\u001b[43m=\u001b[49m\u001b[33;43m\"\u001b[39;49m\u001b[33;43mspeedup\u001b[39;49m\u001b[33;43m\"\u001b[39;49m\u001b[43m,\u001b[49m\n\u001b[32m      2\u001b[39m \u001b[43m         \u001b[49m\u001b[43moutname\u001b[49m\u001b[43m=\u001b[49m\u001b[33;43m\"\u001b[39;49m\u001b[33;43mstrong_scaling_speedup_hard_soft.png\u001b[39;49m\u001b[33;43m\"\u001b[39;49m\u001b[43m,\u001b[49m\u001b[43m \u001b[49m\u001b[43merrorbar\u001b[49m\u001b[43m=\u001b[49m\u001b[43m(\u001b[49m\u001b[33;43m\"\u001b[39;49m\u001b[33;43mse\u001b[39;49m\u001b[33;43m\"\u001b[39;49m\u001b[43m,\u001b[49m\u001b[43m \u001b[49m\u001b[32;43m0.3\u001b[39;49m\u001b[43m)\u001b[49m\u001b[43m)\u001b[49m\n\u001b[32m      4\u001b[39m \u001b[38;5;66;03m# plot y=x\u001b[39;00m\n\u001b[32m      5\u001b[39m x = np.linspace(\u001b[32m1\u001b[39m, \u001b[32m112\u001b[39m, \u001b[32m100\u001b[39m)\n",
      "\u001b[36mCell\u001b[39m\u001b[36m \u001b[39m\u001b[32mIn[28]\u001b[39m\u001b[32m, line 7\u001b[39m, in \u001b[36mmakeplot\u001b[39m\u001b[34m(data, x, y, xlabel, ylabel, outname, variable, xscale, yscale, hue, **kwargs)\u001b[39m\n\u001b[32m      4\u001b[39m fig, ax = plt.subplots(figsize=(\u001b[32m10\u001b[39m, \u001b[32m6\u001b[39m))\n\u001b[32m      5\u001b[39m outname = outname \u001b[38;5;129;01mor\u001b[39;00m \u001b[33mf\u001b[39m\u001b[33m\"\u001b[39m\u001b[38;5;132;01m{\u001b[39;00my\u001b[38;5;132;01m}\u001b[39;00m\u001b[33m_vs_\u001b[39m\u001b[38;5;132;01m{\u001b[39;00mx\u001b[38;5;132;01m}\u001b[39;00m\u001b[33m.png\u001b[39m\u001b[33m\"\u001b[39m\n\u001b[32m----> \u001b[39m\u001b[32m7\u001b[39m \u001b[43msns\u001b[49m\u001b[43m.\u001b[49m\u001b[43mlineplot\u001b[49m\u001b[43m(\u001b[49m\u001b[43mdata\u001b[49m\u001b[43m,\u001b[49m\u001b[43m \u001b[49m\u001b[43mx\u001b[49m\u001b[43m=\u001b[49m\u001b[43mx\u001b[49m\u001b[43m,\u001b[49m\u001b[43m                 \u001b[49m\u001b[43my\u001b[49m\u001b[43m=\u001b[49m\u001b[43my\u001b[49m\u001b[43m,\u001b[49m\n\u001b[32m      8\u001b[39m \u001b[43m             \u001b[49m\u001b[43mhue\u001b[49m\u001b[43m=\u001b[49m\u001b[43mhue\u001b[49m\u001b[43m,\u001b[49m\u001b[43m \u001b[49m\u001b[43mmarker\u001b[49m\u001b[43m=\u001b[49m\u001b[33;43m\"\u001b[39;49m\u001b[33;43mo\u001b[39;49m\u001b[33;43m\"\u001b[39;49m\u001b[43m,\u001b[49m\u001b[43m \u001b[49m\u001b[43max\u001b[49m\u001b[43m=\u001b[49m\u001b[43max\u001b[49m\u001b[43m,\u001b[49m\u001b[43m \u001b[49m\u001b[43m*\u001b[49m\u001b[43m*\u001b[49m\u001b[43mkwargs\u001b[49m\u001b[43m,\u001b[49m\u001b[43m \u001b[49m\u001b[43mlw\u001b[49m\u001b[43m=\u001b[49m\u001b[32;43m2\u001b[39;49m\u001b[43m,\u001b[49m\u001b[43m \u001b[49m\u001b[43mms\u001b[49m\u001b[43m=\u001b[49m\u001b[32;43m10\u001b[39;49m\u001b[43m,\u001b[49m\u001b[43m \u001b[49m\u001b[43mpalette\u001b[49m\u001b[43m=\u001b[49m\u001b[43mMODE_COLORS\u001b[49m\u001b[43m,\u001b[49m\u001b[43m \u001b[49m\u001b[43mstyle_order\u001b[49m\u001b[43m=\u001b[49m\u001b[43mLINE_STYLES\u001b[49m\u001b[43m.\u001b[49m\u001b[43mkeys\u001b[49m\u001b[43m(\u001b[49m\u001b[43m)\u001b[49m\u001b[43m)\u001b[49m\n\u001b[32m     10\u001b[39m \u001b[38;5;28;01mif\u001b[39;00m xscale:\n\u001b[32m     11\u001b[39m     ax.set_xscale(xscale, base=\u001b[32m2\u001b[39m)\n",
      "\u001b[36mFile \u001b[39m\u001b[32m~/MicrobeGrowthSim-IDP/.venv/lib/python3.13/site-packages/seaborn/relational.py:485\u001b[39m, in \u001b[36mlineplot\u001b[39m\u001b[34m(data, x, y, hue, size, style, units, weights, palette, hue_order, hue_norm, sizes, size_order, size_norm, dashes, markers, style_order, estimator, errorbar, n_boot, seed, orient, sort, err_style, err_kws, legend, ci, ax, **kwargs)\u001b[39m\n\u001b[32m    471\u001b[39m \u001b[38;5;28;01mdef\u001b[39;00m\u001b[38;5;250m \u001b[39m\u001b[34mlineplot\u001b[39m(\n\u001b[32m    472\u001b[39m     data=\u001b[38;5;28;01mNone\u001b[39;00m, *,\n\u001b[32m    473\u001b[39m     x=\u001b[38;5;28;01mNone\u001b[39;00m, y=\u001b[38;5;28;01mNone\u001b[39;00m, hue=\u001b[38;5;28;01mNone\u001b[39;00m, size=\u001b[38;5;28;01mNone\u001b[39;00m, style=\u001b[38;5;28;01mNone\u001b[39;00m, units=\u001b[38;5;28;01mNone\u001b[39;00m, weights=\u001b[38;5;28;01mNone\u001b[39;00m,\n\u001b[32m   (...)\u001b[39m\u001b[32m    481\u001b[39m \n\u001b[32m    482\u001b[39m     \u001b[38;5;66;03m# Handle deprecation of ci parameter\u001b[39;00m\n\u001b[32m    483\u001b[39m     errorbar = _deprecate_ci(errorbar, ci)\n\u001b[32m--> \u001b[39m\u001b[32m485\u001b[39m     p = \u001b[43m_LinePlotter\u001b[49m\u001b[43m(\u001b[49m\n\u001b[32m    486\u001b[39m \u001b[43m        \u001b[49m\u001b[43mdata\u001b[49m\u001b[43m=\u001b[49m\u001b[43mdata\u001b[49m\u001b[43m,\u001b[49m\n\u001b[32m    487\u001b[39m \u001b[43m        \u001b[49m\u001b[43mvariables\u001b[49m\u001b[43m=\u001b[49m\u001b[38;5;28;43mdict\u001b[39;49m\u001b[43m(\u001b[49m\n\u001b[32m    488\u001b[39m \u001b[43m            \u001b[49m\u001b[43mx\u001b[49m\u001b[43m=\u001b[49m\u001b[43mx\u001b[49m\u001b[43m,\u001b[49m\u001b[43m \u001b[49m\u001b[43my\u001b[49m\u001b[43m=\u001b[49m\u001b[43my\u001b[49m\u001b[43m,\u001b[49m\u001b[43m \u001b[49m\u001b[43mhue\u001b[49m\u001b[43m=\u001b[49m\u001b[43mhue\u001b[49m\u001b[43m,\u001b[49m\u001b[43m \u001b[49m\u001b[43msize\u001b[49m\u001b[43m=\u001b[49m\u001b[43msize\u001b[49m\u001b[43m,\u001b[49m\u001b[43m \u001b[49m\u001b[43mstyle\u001b[49m\u001b[43m=\u001b[49m\u001b[43mstyle\u001b[49m\u001b[43m,\u001b[49m\u001b[43m \u001b[49m\u001b[43munits\u001b[49m\u001b[43m=\u001b[49m\u001b[43munits\u001b[49m\u001b[43m,\u001b[49m\u001b[43m \u001b[49m\u001b[43mweight\u001b[49m\u001b[43m=\u001b[49m\u001b[43mweights\u001b[49m\n\u001b[32m    489\u001b[39m \u001b[43m        \u001b[49m\u001b[43m)\u001b[49m\u001b[43m,\u001b[49m\n\u001b[32m    490\u001b[39m \u001b[43m        \u001b[49m\u001b[43mestimator\u001b[49m\u001b[43m=\u001b[49m\u001b[43mestimator\u001b[49m\u001b[43m,\u001b[49m\u001b[43m \u001b[49m\u001b[43mn_boot\u001b[49m\u001b[43m=\u001b[49m\u001b[43mn_boot\u001b[49m\u001b[43m,\u001b[49m\u001b[43m \u001b[49m\u001b[43mseed\u001b[49m\u001b[43m=\u001b[49m\u001b[43mseed\u001b[49m\u001b[43m,\u001b[49m\u001b[43m \u001b[49m\u001b[43merrorbar\u001b[49m\u001b[43m=\u001b[49m\u001b[43merrorbar\u001b[49m\u001b[43m,\u001b[49m\n\u001b[32m    491\u001b[39m \u001b[43m        \u001b[49m\u001b[43msort\u001b[49m\u001b[43m=\u001b[49m\u001b[43msort\u001b[49m\u001b[43m,\u001b[49m\u001b[43m \u001b[49m\u001b[43morient\u001b[49m\u001b[43m=\u001b[49m\u001b[43morient\u001b[49m\u001b[43m,\u001b[49m\u001b[43m \u001b[49m\u001b[43merr_style\u001b[49m\u001b[43m=\u001b[49m\u001b[43merr_style\u001b[49m\u001b[43m,\u001b[49m\u001b[43m \u001b[49m\u001b[43merr_kws\u001b[49m\u001b[43m=\u001b[49m\u001b[43merr_kws\u001b[49m\u001b[43m,\u001b[49m\n\u001b[32m    492\u001b[39m \u001b[43m        \u001b[49m\u001b[43mlegend\u001b[49m\u001b[43m=\u001b[49m\u001b[43mlegend\u001b[49m\u001b[43m,\u001b[49m\n\u001b[32m    493\u001b[39m \u001b[43m    \u001b[49m\u001b[43m)\u001b[49m\n\u001b[32m    495\u001b[39m     p.map_hue(palette=palette, order=hue_order, norm=hue_norm)\n\u001b[32m    496\u001b[39m     p.map_size(sizes=sizes, order=size_order, norm=size_norm)\n",
      "\u001b[36mFile \u001b[39m\u001b[32m~/MicrobeGrowthSim-IDP/.venv/lib/python3.13/site-packages/seaborn/relational.py:216\u001b[39m, in \u001b[36m_LinePlotter.__init__\u001b[39m\u001b[34m(self, data, variables, estimator, n_boot, seed, errorbar, sort, orient, err_style, err_kws, legend)\u001b[39m\n\u001b[32m    202\u001b[39m \u001b[38;5;28;01mdef\u001b[39;00m\u001b[38;5;250m \u001b[39m\u001b[34m__init__\u001b[39m(\n\u001b[32m    203\u001b[39m     \u001b[38;5;28mself\u001b[39m, *,\n\u001b[32m    204\u001b[39m     data=\u001b[38;5;28;01mNone\u001b[39;00m, variables={},\n\u001b[32m   (...)\u001b[39m\u001b[32m    210\u001b[39m     \u001b[38;5;66;03m# the kind of plot to draw, but for the time being we need to set\u001b[39;00m\n\u001b[32m    211\u001b[39m     \u001b[38;5;66;03m# this information so the SizeMapping can use it\u001b[39;00m\n\u001b[32m    212\u001b[39m     \u001b[38;5;28mself\u001b[39m._default_size_range = (\n\u001b[32m    213\u001b[39m         np.r_[\u001b[32m.5\u001b[39m, \u001b[32m2\u001b[39m] * mpl.rcParams[\u001b[33m\"\u001b[39m\u001b[33mlines.linewidth\u001b[39m\u001b[33m\"\u001b[39m]\n\u001b[32m    214\u001b[39m     )\n\u001b[32m--> \u001b[39m\u001b[32m216\u001b[39m     \u001b[38;5;28;43msuper\u001b[39;49m\u001b[43m(\u001b[49m\u001b[43m)\u001b[49m\u001b[43m.\u001b[49m\u001b[34;43m__init__\u001b[39;49m\u001b[43m(\u001b[49m\u001b[43mdata\u001b[49m\u001b[43m=\u001b[49m\u001b[43mdata\u001b[49m\u001b[43m,\u001b[49m\u001b[43m \u001b[49m\u001b[43mvariables\u001b[49m\u001b[43m=\u001b[49m\u001b[43mvariables\u001b[49m\u001b[43m)\u001b[49m\n\u001b[32m    218\u001b[39m     \u001b[38;5;28mself\u001b[39m.estimator = estimator\n\u001b[32m    219\u001b[39m     \u001b[38;5;28mself\u001b[39m.errorbar = errorbar\n",
      "\u001b[36mFile \u001b[39m\u001b[32m~/MicrobeGrowthSim-IDP/.venv/lib/python3.13/site-packages/seaborn/_base.py:634\u001b[39m, in \u001b[36mVectorPlotter.__init__\u001b[39m\u001b[34m(self, data, variables)\u001b[39m\n\u001b[32m    629\u001b[39m \u001b[38;5;66;03m# var_ordered is relevant only for categorical axis variables, and may\u001b[39;00m\n\u001b[32m    630\u001b[39m \u001b[38;5;66;03m# be better handled by an internal axis information object that tracks\u001b[39;00m\n\u001b[32m    631\u001b[39m \u001b[38;5;66;03m# such information and is set up by the scale_* methods. The analogous\u001b[39;00m\n\u001b[32m    632\u001b[39m \u001b[38;5;66;03m# information for numeric axes would be information about log scales.\u001b[39;00m\n\u001b[32m    633\u001b[39m \u001b[38;5;28mself\u001b[39m._var_ordered = {\u001b[33m\"\u001b[39m\u001b[33mx\u001b[39m\u001b[33m\"\u001b[39m: \u001b[38;5;28;01mFalse\u001b[39;00m, \u001b[33m\"\u001b[39m\u001b[33my\u001b[39m\u001b[33m\"\u001b[39m: \u001b[38;5;28;01mFalse\u001b[39;00m}  \u001b[38;5;66;03m# alt., used DefaultDict\u001b[39;00m\n\u001b[32m--> \u001b[39m\u001b[32m634\u001b[39m \u001b[38;5;28;43mself\u001b[39;49m\u001b[43m.\u001b[49m\u001b[43massign_variables\u001b[49m\u001b[43m(\u001b[49m\u001b[43mdata\u001b[49m\u001b[43m,\u001b[49m\u001b[43m \u001b[49m\u001b[43mvariables\u001b[49m\u001b[43m)\u001b[49m\n\u001b[32m    636\u001b[39m \u001b[38;5;66;03m# TODO Lots of tests assume that these are called to initialize the\u001b[39;00m\n\u001b[32m    637\u001b[39m \u001b[38;5;66;03m# mappings to default values on class initialization. I'd prefer to\u001b[39;00m\n\u001b[32m    638\u001b[39m \u001b[38;5;66;03m# move away from that and only have a mapping when explicitly called.\u001b[39;00m\n\u001b[32m    639\u001b[39m \u001b[38;5;28;01mfor\u001b[39;00m var \u001b[38;5;129;01min\u001b[39;00m [\u001b[33m\"\u001b[39m\u001b[33mhue\u001b[39m\u001b[33m\"\u001b[39m, \u001b[33m\"\u001b[39m\u001b[33msize\u001b[39m\u001b[33m\"\u001b[39m, \u001b[33m\"\u001b[39m\u001b[33mstyle\u001b[39m\u001b[33m\"\u001b[39m]:\n",
      "\u001b[36mFile \u001b[39m\u001b[32m~/MicrobeGrowthSim-IDP/.venv/lib/python3.13/site-packages/seaborn/_base.py:679\u001b[39m, in \u001b[36mVectorPlotter.assign_variables\u001b[39m\u001b[34m(self, data, variables)\u001b[39m\n\u001b[32m    674\u001b[39m \u001b[38;5;28;01melse\u001b[39;00m:\n\u001b[32m    675\u001b[39m     \u001b[38;5;66;03m# When dealing with long-form input, use the newer PlotData\u001b[39;00m\n\u001b[32m    676\u001b[39m     \u001b[38;5;66;03m# object (internal but introduced for the objects interface)\u001b[39;00m\n\u001b[32m    677\u001b[39m     \u001b[38;5;66;03m# to centralize / standardize data consumption logic.\u001b[39;00m\n\u001b[32m    678\u001b[39m     \u001b[38;5;28mself\u001b[39m.input_format = \u001b[33m\"\u001b[39m\u001b[33mlong\u001b[39m\u001b[33m\"\u001b[39m\n\u001b[32m--> \u001b[39m\u001b[32m679\u001b[39m     plot_data = \u001b[43mPlotData\u001b[49m\u001b[43m(\u001b[49m\u001b[43mdata\u001b[49m\u001b[43m,\u001b[49m\u001b[43m \u001b[49m\u001b[43mvariables\u001b[49m\u001b[43m)\u001b[49m\n\u001b[32m    680\u001b[39m     frame = plot_data.frame\n\u001b[32m    681\u001b[39m     names = plot_data.names\n",
      "\u001b[36mFile \u001b[39m\u001b[32m~/MicrobeGrowthSim-IDP/.venv/lib/python3.13/site-packages/seaborn/_core/data.py:58\u001b[39m, in \u001b[36mPlotData.__init__\u001b[39m\u001b[34m(self, data, variables)\u001b[39m\n\u001b[32m     51\u001b[39m \u001b[38;5;28;01mdef\u001b[39;00m\u001b[38;5;250m \u001b[39m\u001b[34m__init__\u001b[39m(\n\u001b[32m     52\u001b[39m     \u001b[38;5;28mself\u001b[39m,\n\u001b[32m     53\u001b[39m     data: DataSource,\n\u001b[32m     54\u001b[39m     variables: \u001b[38;5;28mdict\u001b[39m[\u001b[38;5;28mstr\u001b[39m, VariableSpec],\n\u001b[32m     55\u001b[39m ):\n\u001b[32m     57\u001b[39m     data = handle_data_source(data)\n\u001b[32m---> \u001b[39m\u001b[32m58\u001b[39m     frame, names, ids = \u001b[38;5;28;43mself\u001b[39;49m\u001b[43m.\u001b[49m\u001b[43m_assign_variables\u001b[49m\u001b[43m(\u001b[49m\u001b[43mdata\u001b[49m\u001b[43m,\u001b[49m\u001b[43m \u001b[49m\u001b[43mvariables\u001b[49m\u001b[43m)\u001b[49m\n\u001b[32m     60\u001b[39m     \u001b[38;5;28mself\u001b[39m.frame = frame\n\u001b[32m     61\u001b[39m     \u001b[38;5;28mself\u001b[39m.names = names\n",
      "\u001b[36mFile \u001b[39m\u001b[32m~/MicrobeGrowthSim-IDP/.venv/lib/python3.13/site-packages/seaborn/_core/data.py:232\u001b[39m, in \u001b[36mPlotData._assign_variables\u001b[39m\u001b[34m(self, data, variables)\u001b[39m\n\u001b[32m    230\u001b[39m     \u001b[38;5;28;01melse\u001b[39;00m:\n\u001b[32m    231\u001b[39m         err += \u001b[33m\"\u001b[39m\u001b[33mAn entry with this name does not appear in `data`.\u001b[39m\u001b[33m\"\u001b[39m\n\u001b[32m--> \u001b[39m\u001b[32m232\u001b[39m     \u001b[38;5;28;01mraise\u001b[39;00m \u001b[38;5;167;01mValueError\u001b[39;00m(err)\n\u001b[32m    234\u001b[39m \u001b[38;5;28;01melse\u001b[39;00m:\n\u001b[32m    235\u001b[39m \n\u001b[32m    236\u001b[39m     \u001b[38;5;66;03m# Otherwise, assume the value somehow represents data\u001b[39;00m\n\u001b[32m    237\u001b[39m \n\u001b[32m    238\u001b[39m     \u001b[38;5;66;03m# Ignore empty data structures\u001b[39;00m\n\u001b[32m    239\u001b[39m     \u001b[38;5;28;01mif\u001b[39;00m \u001b[38;5;28misinstance\u001b[39m(val, Sized) \u001b[38;5;129;01mand\u001b[39;00m \u001b[38;5;28mlen\u001b[39m(val) == \u001b[32m0\u001b[39m:\n",
      "\u001b[31mValueError\u001b[39m: Could not interpret value `speedup` for `y`. An entry with this name does not appear in `data`."
     ]
    },
    {
     "data": {
      "image/png": "[encoded data removed]",
      "text/plain": [
       "<Figure size 1000x600 with 1 Axes>"
      ]
     },
     "metadata": {},
     "output_type": "display_data"
    }
   ],
   "source": [
    "makeplot(runtimes, x=\"total_ranks\", y=\"speedup\",\n",
    "         outname=\"strong_scaling_speedup_hard_soft.png\", errorbar=(\"se\", 0.3))\n",
    "\n",
    "# plot y=x\n",
    "x = np.linspace(1, 112, 100)\n",
    "\n",
    "plt.gca().plot(x, x, color='gray', linestyle='--', label='ideal', linewidth=2)\n",
    "\n",
    "# update legend\n",
    "plt.gca().legend(fontsize=16)\n",
    "\n",
    "# set y lim\n",
    "plt.gca().set_ylim(0, 40)\n",
    "\n",
    "# set y log"
   ]
  },
  {
   "cell_type": "code",
   "execution_count": 37,
   "id": "0829754a",
   "metadata": {},
   "outputs": [
    {
     "data": {
      "image/png": "[encoded data removed]",
      "text/plain": [
       "<Figure size 1000x600 with 1 Axes>"
      ]
     },
     "metadata": {},
     "output_type": "display_data"
    }
   ],
   "source": [
    "makeplot(sim_data, x=\"colony_radius\", y=\"dt_s\",\n",
    "         outname=\"strong_scaling_runtime_hard_soft.png\", yscale=\"log\",  errorbar=(\"se\",0.9))"
   ]
  }
 ],
 "metadata": {
  "kernelspec": {
   "display_name": ".venv",
   "language": "python",
   "name": "python3"
  },
  "language_info": {
   "codemirror_mode": {
    "name": "ipython",
    "version": 3
   },
   "file_extension": ".py",
   "mimetype": "text/x-python",
   "name": "python",
   "nbconvert_exporter": "python",
   "pygments_lexer": "ipython3",
   "version": "3.13.1"
  }
 },
 "nbformat": 4,
 "nbformat_minor": 5
}
